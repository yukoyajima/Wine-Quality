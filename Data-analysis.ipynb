{
 "cells": [
  {
   "cell_type": "markdown",
   "metadata": {},
   "source": [
    "# Interpretation of Best Fitting Model # \n",
    "\n",
    "We have found the best model through forward selection to be the one with the following 8 covariates: \n",
    "- `fixed acidity`\n",
    "- `volatile acidity`\n",
    "- `residual sugar`\n",
    "- `chlorides`\n",
    "- `total sulfur dioxide`\n",
    "- `density`\n",
    "- `sulphates`\n",
    "- `alcohol`\n",
    "\n",
    "To answer our research question *\"Do residual sugar and alcohol level have an association with wine quality?\"* we look further at this model, specifically our variables of interest."
   ]
  },
  {
   "cell_type": "code",
   "execution_count": null,
   "metadata": {},
   "outputs": [],
   "source": [
    "rw <- read.csv(\"data/winequality-red.csv\")\n",
    "rw$quality <- ifelse(rw$quality >=7,1,0)\n"
   ]
  },
  {
   "cell_type": "code",
   "execution_count": 8,
   "metadata": {},
   "outputs": [
    {
     "data": {
      "text/plain": [
       "\n",
       "Call:\n",
       "glm(formula = quality ~ fixed.acidity + volatile.acidity + residual.sugar + \n",
       "    chlorides + total.sulfur.dioxide + density + sulphates + \n",
       "    alcohol, family = binomial, data = rw)\n",
       "\n",
       "Deviance Residuals: \n",
       "    Min       1Q   Median       3Q      Max  \n",
       "-3.0158  -0.4314  -0.2220  -0.1255   2.9883  \n",
       "\n",
       "Coefficients:\n",
       "                       Estimate Std. Error z value Pr(>|z|)    \n",
       "(Intercept)           2.268e+02  9.163e+01   2.475 0.013336 *  \n",
       "fixed.acidity         2.812e-01  8.029e-02   3.502 0.000462 ***\n",
       "volatile.acidity     -2.913e+00  6.467e-01  -4.504 6.66e-06 ***\n",
       "residual.sugar        2.328e-01  7.009e-02   3.322 0.000893 ***\n",
       "chlorides            -8.441e+00  3.259e+00  -2.590 0.009593 ** \n",
       "total.sulfur.dioxide -1.360e-02  3.447e-03  -3.946 7.95e-05 ***\n",
       "density              -2.409e+02  9.202e+01  -2.618 0.008835 ** \n",
       "sulphates             3.699e+00  5.287e-01   6.997 2.62e-12 ***\n",
       "alcohol               7.823e-01  1.120e-01   6.983 2.88e-12 ***\n",
       "---\n",
       "Signif. codes:  0 ‘***’ 0.001 ‘**’ 0.01 ‘*’ 0.05 ‘.’ 0.1 ‘ ’ 1\n",
       "\n",
       "(Dispersion parameter for binomial family taken to be 1)\n",
       "\n",
       "    Null deviance: 1269.92  on 1598  degrees of freedom\n",
       "Residual deviance:  872.08  on 1590  degrees of freedom\n",
       "AIC: 890.08\n",
       "\n",
       "Number of Fisher Scoring iterations: 6\n"
      ]
     },
     "execution_count": null,
     "metadata": {},
     "output_type": "execute_result"
    }
   ],
   "source": [
    "rw_reg8 <- glm(quality ~ fixed.acidity+volatile.acidity+residual.sugar+chlorides+total.sulfur.dioxide+density+sulphates+alcohol, data = rw, family = binomial)           \n",
    "summary(rw_reg8)"
   ]
  },
  {
   "cell_type": "code",
   "execution_count": 25,
   "metadata": {},
   "outputs": [],
   "source": [
    "odds_sugar <- exp(coef(rw_reg8)[\"residual.sugar\"])\n",
    "prob_sugar <- odds_sugar/(1+odds_sugar)\n",
    "odds_alcohol <- exp(coef(rw_reg8)[\"alcohol\"])\n",
    "prob_alcohol <- odds_alcohol/(1+odds_alcohol)\n"
   ]
  },
  {
   "cell_type": "markdown",
   "metadata": {},
   "source": [
    "From the summary we can see that **all of the parameters are statistically significant at a 5% significance level**. Thus, we can conclude that residual sugar and alcohol level are associated with quality.\n",
    "\n",
    "Residual sugar has an estimate of .233, or, holding all other variables constant, a g/L increase in residual sugar is associated with a .233 increase in the log-odds of wine quality. In simpler terms, a g/L increase in residual sugar is associated with a probability of .558 of being rated a high quality wine. The estimate of alcohol is .782 meaning, holding all other variables constant, a percent increase in alcohol level is associated with a probability of .686 of being highly rated.\n"
   ]
  },
  {
   "cell_type": "markdown",
   "metadata": {},
   "source": []
  }
 ],
 "metadata": {
  "language_info": {
   "name": "r"
  }
 },
 "nbformat": 4,
 "nbformat_minor": 2
}
